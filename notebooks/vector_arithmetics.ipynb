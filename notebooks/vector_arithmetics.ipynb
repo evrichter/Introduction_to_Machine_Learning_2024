{
 "cells": [
  {
   "cell_type": "code",
   "execution_count": null,
   "metadata": {},
   "outputs": [],
   "source": [
    "%pip install \"git+https://github.com/kasnerz/fastText.git\"\n",
    "\n",
    "import numpy as np\n",
    "from pprint import pprint as pp\n",
    "\n",
    "import fasttext.util"
   ]
  },
  {
   "cell_type": "code",
   "execution_count": null,
   "metadata": {},
   "outputs": [],
   "source": [
    "fasttext.util.download_model('en', if_exists='ignore')  # English"
   ]
  },
  {
   "cell_type": "code",
   "execution_count": null,
   "metadata": {},
   "outputs": [],
   "source": [
    "ft = fasttext.load_model('cc.en.300.bin')"
   ]
  },
  {
   "cell_type": "code",
   "execution_count": null,
   "metadata": {},
   "outputs": [],
   "source": [
    "def compute_vector(expression):\n",
    "    expression = expression.split()\n",
    "    word = expression[0]\n",
    "    result_vector = ft.get_word_vector(word)\n",
    "\n",
    "    for i in range(1, len(expression), 2):\n",
    "        sign = expression[i]\n",
    "        word = expression[i+1]\n",
    "        vector = ft.get_word_vector(word)\n",
    "\n",
    "        if sign == '+':\n",
    "            result_vector += vector\n",
    "        elif sign == '-':\n",
    "            result_vector -= vector\n",
    "        else:\n",
    "            raise ValueError(f\"Unsupported operation: {sign}\")\n",
    "\n",
    "    return result_vector\n",
    "\n",
    "\n",
    "def find_closest_words(expression, n=10):\n",
    "    result_vector = compute_vector(expression)\n",
    "    closest_words = ft.get_nearest_neighbors_embedding(result_vector, k=n)\n",
    "\n",
    "    return closest_words"
   ]
  },
  {
   "cell_type": "code",
   "execution_count": null,
   "metadata": {},
   "outputs": [],
   "source": [
    "expression = \"Prague - Czech + German\"\n",
    "closest_words = find_closest_words(expression)\n",
    "pp(closest_words)"
   ]
  }
 ],
 "metadata": {
  "kernelspec": {
   "display_name": "npfl129",
   "language": "python",
   "name": "python3"
  },
  "language_info": {
   "codemirror_mode": {
    "name": "ipython",
    "version": 3
   },
   "file_extension": ".py",
   "mimetype": "text/x-python",
   "name": "python",
   "nbconvert_exporter": "python",
   "pygments_lexer": "ipython3",
   "version": "3.10.12"
  }
 },
 "nbformat": 4,
 "nbformat_minor": 2
}
