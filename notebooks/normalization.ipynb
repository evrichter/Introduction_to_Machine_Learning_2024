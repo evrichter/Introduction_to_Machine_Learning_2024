{
 "cells": [
  {
   "cell_type": "code",
   "execution_count": 42,
   "metadata": {},
   "outputs": [
    {
     "name": "stdout",
     "output_type": "stream",
     "text": [
      "result: [0.12 0.88 0.  ]\n",
      "sum: 0.9999999999999998\n",
      "result: [0.33 0.56 0.11]\n",
      "sum: 1.0\n",
      "result: [0.4 0.6 0. ]\n",
      "sum: 1.0\n"
     ]
    }
   ],
   "source": [
    "import numpy as np\n",
    "\n",
    "# --------------------------------\n",
    "# Normalization functions\n",
    "\n",
    "def softmax(x):\n",
    "    return np.exp(x) / np.sum(np.exp(x))\n",
    "\n",
    "def l1_norm(x):\n",
    "    return np.abs(x) / np.sum(np.abs(x))\n",
    "\n",
    "def min_sum_norm(x):\n",
    "    x_norm = (x - np.min(x))\n",
    "    return x_norm / np.sum(x_norm)\n",
    "\n",
    "# --------------------------------\n",
    "\n",
    "def normalize_and_print(v, norm):\n",
    "    print(\"result:\", np.round(norm(v), 2))\n",
    "    print(\"sum:\", np.sum(norm(v)))\n",
    "\n",
    "v = np.array([3, 5, -1])\n",
    "\n",
    "normalize_and_print(v, softmax)\n",
    "normalize_and_print(v, l1_norm)\n",
    "normalize_and_print(v, min_sum_norm)"
   ]
  }
 ],
 "metadata": {
  "kernelspec": {
   "display_name": "npfl129",
   "language": "python",
   "name": "python3"
  },
  "language_info": {
   "codemirror_mode": {
    "name": "ipython",
    "version": 3
   },
   "file_extension": ".py",
   "mimetype": "text/x-python",
   "name": "python",
   "nbconvert_exporter": "python",
   "pygments_lexer": "ipython3",
   "version": "3.10.12"
  }
 },
 "nbformat": 4,
 "nbformat_minor": 2
}
